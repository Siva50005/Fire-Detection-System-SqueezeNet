{
 "cells": [
  {
   "cell_type": "markdown",
   "metadata": {},
   "source": [
    "## Importing the necessary libraries"
   ]
  },
  {
   "cell_type": "code",
   "execution_count": 1,
   "metadata": {},
   "outputs": [],
   "source": [
    "import numpy as np \n",
    "import pandas as pd  \n",
    "import torch\n",
    "import matplotlib.pyplot as plt\n",
    "import os\n",
    "from tqdm.notebook import tqdm\n",
    "import matplotlib.pyplot as plt \n",
    "import torch.nn.functional as F \n",
    "\n",
    "data_dir = './fire_dataset'"
   ]
  },
  {
   "cell_type": "code",
   "execution_count": 2,
   "metadata": {},
   "outputs": [],
   "source": [
    "from torchvision.datasets import ImageFolder\n",
    "from torch.utils.data import DataLoader \n",
    "from torchvision import transforms as T,datasets  \n",
    "from torchvision.models import squeezenet1_0"
   ]
  },
  {
   "cell_type": "code",
   "execution_count": 3,
   "metadata": {},
   "outputs": [
    {
     "name": "stdout",
     "output_type": "stream",
     "text": [
      "Device:cpu\n"
     ]
    }
   ],
   "source": [
    "class CNFG:\n",
    "    epochs =20                             \n",
    "    lr = 0.001                             \n",
    "    batch_size = 256              \n",
    "    img_size = 224\n",
    "    \n",
    "\n",
    "device = torch.device(\"cuda\" if torch.cuda.is_available() else \"cpu\")\n",
    "print(\"Device:{}\".format(device))"
   ]
  },
  {
   "cell_type": "markdown",
   "metadata": {},
   "source": [
    "## Transforming the data"
   ]
  },
  {
   "cell_type": "code",
   "execution_count": 4,
   "metadata": {},
   "outputs": [],
   "source": [
    "data_transform = T.Compose([\n",
    "                             T.Resize(size=(CNFG.img_size,CNFG.img_size)), # Resizing the image to be 224 by 224\n",
    "                             T.RandomRotation(degrees=(-20,+20)), #Randomly Rotate Images by +/- 20 degrees, Image argumentation for each epoch\n",
    "                             T.ToTensor(), #converting the dimension from (height,weight,channel) to (channel,height,weight) convention of PyTorch\n",
    "                             T.Normalize([0.485,0.456,0.406],[0.229,0.224,0.225]) # Normalize by 3 means 3 StD's of the image net, 3 channels\n",
    "\n",
    "])"
   ]
  },
  {
   "cell_type": "code",
   "execution_count": 5,
   "metadata": {},
   "outputs": [
    {
     "data": {
      "text/plain": [
       "2105"
      ]
     },
     "execution_count": 5,
     "metadata": {},
     "output_type": "execute_result"
    }
   ],
   "source": [
    "data = datasets.ImageFolder(data_dir,       \n",
    "                    transform=data_transform)\n",
    "total_count = len(data) \n",
    "total_count"
   ]
  },
  {
   "cell_type": "code",
   "execution_count": 6,
   "metadata": {},
   "outputs": [
    {
     "name": "stdout",
     "output_type": "stream",
     "text": [
      "Train data: 1263 images\n",
      "Validation data: 631 images\n",
      "Test data: 211 images\n"
     ]
    }
   ],
   "source": [
    "train_count = int(0.6 * total_count) \n",
    "valid_count = int(0.3 * total_count)\n",
    "test_count = total_count - train_count - valid_count\n",
    "train_data, val_data, test_data = torch.utils.data.random_split(data, (train_count, valid_count, test_count))  \n",
    "print(\"Train data: {} images\".format(len(train_data))) \n",
    "print(\"Validation data: {} images\".format(len(val_data))) \n",
    "print(\"Test data: {} images\".format(len(test_data)))"
   ]
  },
  {
   "cell_type": "markdown",
   "metadata": {},
   "source": [
    "### Method to show the accuracy of the model"
   ]
  },
  {
   "cell_type": "code",
   "execution_count": 7,
   "metadata": {},
   "outputs": [],
   "source": [
    "def accuracy(y_pred,y_true):\n",
    "    y_pred = F.softmax(y_pred,dim = 1)\n",
    "    top_p,top_class = y_pred.topk(1,dim = 1)\n",
    "    equals = top_class == y_true.view(*top_class.shape)\n",
    "    return torch.mean(equals.type(torch.FloatTensor))"
   ]
  },
  {
   "cell_type": "code",
   "execution_count": 8,
   "metadata": {},
   "outputs": [
    {
     "data": {
      "text/plain": [
       "['Fire', 'Neutral']"
      ]
     },
     "execution_count": 8,
     "metadata": {},
     "output_type": "execute_result"
    }
   ],
   "source": [
    "train_data.dataset.classes"
   ]
  },
  {
   "cell_type": "code",
   "execution_count": 9,
   "metadata": {},
   "outputs": [
    {
     "data": {
      "text/plain": [
       "<torch.utils.data.dataset.Subset at 0x1d8c592ca60>"
      ]
     },
     "execution_count": 9,
     "metadata": {},
     "output_type": "execute_result"
    }
   ],
   "source": [
    "train_data"
   ]
  },
  {
   "cell_type": "code",
   "execution_count": 12,
   "metadata": {},
   "outputs": [
    {
     "name": "stdout",
     "output_type": "stream",
     "text": [
      "No. of batches in trainloader:5\n",
      "No. of Total examples:1263\n",
      "No. of batches in validationloader:3\n",
      "No. of Total examples:631\n",
      "No. of batches in testloader:1\n",
      "No. of Total examples:211\n"
     ]
    }
   ],
   "source": [
    "trainloader = DataLoader(train_data,batch_size=CNFG.batch_size,shuffle=True)\n",
    "print(\"No. of batches in trainloader:{}\".format(len(trainloader))) \n",
    "print(\"No. of Total examples:{}\".format(len(trainloader.dataset)))\n",
    "\n",
    "validationloader = DataLoader(val_data,batch_size=CNFG.batch_size,shuffle=True)\n",
    "print(\"No. of batches in validationloader:{}\".format(len(validationloader)))  \n",
    "print(\"No. of Total examples:{}\".format(len(validationloader.dataset)))\n",
    "\n",
    "testloader = DataLoader(test_data,batch_size=CNFG.batch_size,shuffle=True)\n",
    "print(\"No. of batches in testloader:{}\".format(len(testloader))) \n",
    "print(\"No. of Total examples:{}\".format(len(testloader.dataset)))"
   ]
  },
  {
   "cell_type": "code",
   "execution_count": 13,
   "metadata": {},
   "outputs": [
    {
     "data": {
      "text/plain": [
       "<torch.utils.data.dataloader.DataLoader at 0x1d8d167db10>"
      ]
     },
     "execution_count": 13,
     "metadata": {},
     "output_type": "execute_result"
    }
   ],
   "source": [
    "trainloader"
   ]
  },
  {
   "cell_type": "code",
   "execution_count": 15,
   "metadata": {},
   "outputs": [
    {
     "name": "stderr",
     "output_type": "stream",
     "text": [
      "C:\\Users\\Shiva\\AppData\\Roaming\\Python\\Python310\\site-packages\\torchvision\\models\\_utils.py:208: UserWarning: The parameter 'pretrained' is deprecated since 0.13 and may be removed in the future, please use 'weights' instead.\n",
      "  warnings.warn(\n",
      "C:\\Users\\Shiva\\AppData\\Roaming\\Python\\Python310\\site-packages\\torchvision\\models\\_utils.py:223: UserWarning: Arguments other than a weight enum or `None` for 'weights' are deprecated since 0.13 and may be removed in the future. The current behavior is equivalent to passing `weights=SqueezeNet1_0_Weights.IMAGENET1K_V1`. You can also use `weights=SqueezeNet1_0_Weights.DEFAULT` to get the most up-to-date weights.\n",
      "  warnings.warn(msg)\n",
      "Downloading: \"https://download.pytorch.org/models/squeezenet1_0-b66bff10.pth\" to C:\\Users\\Shiva/.cache\\torch\\hub\\checkpoints\\squeezenet1_0-b66bff10.pth\n",
      "100%|█████████████████████████████████████████████████████████████████████████████| 4.78M/4.78M [00:00<00:00, 19.4MB/s]\n"
     ]
    }
   ],
   "source": [
    "from torch import nn\n",
    "import torch.nn.functional as F\n",
    "import timm # PyTorch Image Models\n",
    "\n",
    "model = squeezenet1_0(pretrained=True) #load pretrained model"
   ]
  },
  {
   "cell_type": "code",
   "execution_count": 16,
   "metadata": {},
   "outputs": [
    {
     "data": {
      "text/plain": [
       "SqueezeNet(\n",
       "  (features): Sequential(\n",
       "    (0): Conv2d(3, 96, kernel_size=(7, 7), stride=(2, 2))\n",
       "    (1): ReLU(inplace=True)\n",
       "    (2): MaxPool2d(kernel_size=3, stride=2, padding=0, dilation=1, ceil_mode=True)\n",
       "    (3): Fire(\n",
       "      (squeeze): Conv2d(96, 16, kernel_size=(1, 1), stride=(1, 1))\n",
       "      (squeeze_activation): ReLU(inplace=True)\n",
       "      (expand1x1): Conv2d(16, 64, kernel_size=(1, 1), stride=(1, 1))\n",
       "      (expand1x1_activation): ReLU(inplace=True)\n",
       "      (expand3x3): Conv2d(16, 64, kernel_size=(3, 3), stride=(1, 1), padding=(1, 1))\n",
       "      (expand3x3_activation): ReLU(inplace=True)\n",
       "    )\n",
       "    (4): Fire(\n",
       "      (squeeze): Conv2d(128, 16, kernel_size=(1, 1), stride=(1, 1))\n",
       "      (squeeze_activation): ReLU(inplace=True)\n",
       "      (expand1x1): Conv2d(16, 64, kernel_size=(1, 1), stride=(1, 1))\n",
       "      (expand1x1_activation): ReLU(inplace=True)\n",
       "      (expand3x3): Conv2d(16, 64, kernel_size=(3, 3), stride=(1, 1), padding=(1, 1))\n",
       "      (expand3x3_activation): ReLU(inplace=True)\n",
       "    )\n",
       "    (5): Fire(\n",
       "      (squeeze): Conv2d(128, 32, kernel_size=(1, 1), stride=(1, 1))\n",
       "      (squeeze_activation): ReLU(inplace=True)\n",
       "      (expand1x1): Conv2d(32, 128, kernel_size=(1, 1), stride=(1, 1))\n",
       "      (expand1x1_activation): ReLU(inplace=True)\n",
       "      (expand3x3): Conv2d(32, 128, kernel_size=(3, 3), stride=(1, 1), padding=(1, 1))\n",
       "      (expand3x3_activation): ReLU(inplace=True)\n",
       "    )\n",
       "    (6): MaxPool2d(kernel_size=3, stride=2, padding=0, dilation=1, ceil_mode=True)\n",
       "    (7): Fire(\n",
       "      (squeeze): Conv2d(256, 32, kernel_size=(1, 1), stride=(1, 1))\n",
       "      (squeeze_activation): ReLU(inplace=True)\n",
       "      (expand1x1): Conv2d(32, 128, kernel_size=(1, 1), stride=(1, 1))\n",
       "      (expand1x1_activation): ReLU(inplace=True)\n",
       "      (expand3x3): Conv2d(32, 128, kernel_size=(3, 3), stride=(1, 1), padding=(1, 1))\n",
       "      (expand3x3_activation): ReLU(inplace=True)\n",
       "    )\n",
       "    (8): Fire(\n",
       "      (squeeze): Conv2d(256, 48, kernel_size=(1, 1), stride=(1, 1))\n",
       "      (squeeze_activation): ReLU(inplace=True)\n",
       "      (expand1x1): Conv2d(48, 192, kernel_size=(1, 1), stride=(1, 1))\n",
       "      (expand1x1_activation): ReLU(inplace=True)\n",
       "      (expand3x3): Conv2d(48, 192, kernel_size=(3, 3), stride=(1, 1), padding=(1, 1))\n",
       "      (expand3x3_activation): ReLU(inplace=True)\n",
       "    )\n",
       "    (9): Fire(\n",
       "      (squeeze): Conv2d(384, 48, kernel_size=(1, 1), stride=(1, 1))\n",
       "      (squeeze_activation): ReLU(inplace=True)\n",
       "      (expand1x1): Conv2d(48, 192, kernel_size=(1, 1), stride=(1, 1))\n",
       "      (expand1x1_activation): ReLU(inplace=True)\n",
       "      (expand3x3): Conv2d(48, 192, kernel_size=(3, 3), stride=(1, 1), padding=(1, 1))\n",
       "      (expand3x3_activation): ReLU(inplace=True)\n",
       "    )\n",
       "    (10): Fire(\n",
       "      (squeeze): Conv2d(384, 64, kernel_size=(1, 1), stride=(1, 1))\n",
       "      (squeeze_activation): ReLU(inplace=True)\n",
       "      (expand1x1): Conv2d(64, 256, kernel_size=(1, 1), stride=(1, 1))\n",
       "      (expand1x1_activation): ReLU(inplace=True)\n",
       "      (expand3x3): Conv2d(64, 256, kernel_size=(3, 3), stride=(1, 1), padding=(1, 1))\n",
       "      (expand3x3_activation): ReLU(inplace=True)\n",
       "    )\n",
       "    (11): MaxPool2d(kernel_size=3, stride=2, padding=0, dilation=1, ceil_mode=True)\n",
       "    (12): Fire(\n",
       "      (squeeze): Conv2d(512, 64, kernel_size=(1, 1), stride=(1, 1))\n",
       "      (squeeze_activation): ReLU(inplace=True)\n",
       "      (expand1x1): Conv2d(64, 256, kernel_size=(1, 1), stride=(1, 1))\n",
       "      (expand1x1_activation): ReLU(inplace=True)\n",
       "      (expand3x3): Conv2d(64, 256, kernel_size=(3, 3), stride=(1, 1), padding=(1, 1))\n",
       "      (expand3x3_activation): ReLU(inplace=True)\n",
       "    )\n",
       "  )\n",
       "  (classifier): Sequential(\n",
       "    (0): Dropout(p=0.5, inplace=False)\n",
       "    (1): Conv2d(512, 1000, kernel_size=(1, 1), stride=(1, 1))\n",
       "    (2): ReLU(inplace=True)\n",
       "    (3): AdaptiveAvgPool2d(output_size=(1, 1))\n",
       "  )\n",
       ")"
      ]
     },
     "execution_count": 16,
     "metadata": {},
     "output_type": "execute_result"
    }
   ],
   "source": [
    "model.eval()"
   ]
  },
  {
   "cell_type": "markdown",
   "metadata": {},
   "source": [
    "### Updating the pretrained model:"
   ]
  },
  {
   "cell_type": "code",
   "execution_count": 17,
   "metadata": {},
   "outputs": [],
   "source": [
    "for param in model.parameters():\n",
    "    param.requires_grad=False "
   ]
  },
  {
   "cell_type": "code",
   "execution_count": 18,
   "metadata": {},
   "outputs": [],
   "source": [
    "model.classifier[1] = nn.Conv2d(512, 2, kernel_size=(1, 1), stride=(1, 1))"
   ]
  },
  {
   "cell_type": "code",
   "execution_count": 19,
   "metadata": {},
   "outputs": [
    {
     "data": {
      "text/plain": [
       "SqueezeNet(\n",
       "  (features): Sequential(\n",
       "    (0): Conv2d(3, 96, kernel_size=(7, 7), stride=(2, 2))\n",
       "    (1): ReLU(inplace=True)\n",
       "    (2): MaxPool2d(kernel_size=3, stride=2, padding=0, dilation=1, ceil_mode=True)\n",
       "    (3): Fire(\n",
       "      (squeeze): Conv2d(96, 16, kernel_size=(1, 1), stride=(1, 1))\n",
       "      (squeeze_activation): ReLU(inplace=True)\n",
       "      (expand1x1): Conv2d(16, 64, kernel_size=(1, 1), stride=(1, 1))\n",
       "      (expand1x1_activation): ReLU(inplace=True)\n",
       "      (expand3x3): Conv2d(16, 64, kernel_size=(3, 3), stride=(1, 1), padding=(1, 1))\n",
       "      (expand3x3_activation): ReLU(inplace=True)\n",
       "    )\n",
       "    (4): Fire(\n",
       "      (squeeze): Conv2d(128, 16, kernel_size=(1, 1), stride=(1, 1))\n",
       "      (squeeze_activation): ReLU(inplace=True)\n",
       "      (expand1x1): Conv2d(16, 64, kernel_size=(1, 1), stride=(1, 1))\n",
       "      (expand1x1_activation): ReLU(inplace=True)\n",
       "      (expand3x3): Conv2d(16, 64, kernel_size=(3, 3), stride=(1, 1), padding=(1, 1))\n",
       "      (expand3x3_activation): ReLU(inplace=True)\n",
       "    )\n",
       "    (5): Fire(\n",
       "      (squeeze): Conv2d(128, 32, kernel_size=(1, 1), stride=(1, 1))\n",
       "      (squeeze_activation): ReLU(inplace=True)\n",
       "      (expand1x1): Conv2d(32, 128, kernel_size=(1, 1), stride=(1, 1))\n",
       "      (expand1x1_activation): ReLU(inplace=True)\n",
       "      (expand3x3): Conv2d(32, 128, kernel_size=(3, 3), stride=(1, 1), padding=(1, 1))\n",
       "      (expand3x3_activation): ReLU(inplace=True)\n",
       "    )\n",
       "    (6): MaxPool2d(kernel_size=3, stride=2, padding=0, dilation=1, ceil_mode=True)\n",
       "    (7): Fire(\n",
       "      (squeeze): Conv2d(256, 32, kernel_size=(1, 1), stride=(1, 1))\n",
       "      (squeeze_activation): ReLU(inplace=True)\n",
       "      (expand1x1): Conv2d(32, 128, kernel_size=(1, 1), stride=(1, 1))\n",
       "      (expand1x1_activation): ReLU(inplace=True)\n",
       "      (expand3x3): Conv2d(32, 128, kernel_size=(3, 3), stride=(1, 1), padding=(1, 1))\n",
       "      (expand3x3_activation): ReLU(inplace=True)\n",
       "    )\n",
       "    (8): Fire(\n",
       "      (squeeze): Conv2d(256, 48, kernel_size=(1, 1), stride=(1, 1))\n",
       "      (squeeze_activation): ReLU(inplace=True)\n",
       "      (expand1x1): Conv2d(48, 192, kernel_size=(1, 1), stride=(1, 1))\n",
       "      (expand1x1_activation): ReLU(inplace=True)\n",
       "      (expand3x3): Conv2d(48, 192, kernel_size=(3, 3), stride=(1, 1), padding=(1, 1))\n",
       "      (expand3x3_activation): ReLU(inplace=True)\n",
       "    )\n",
       "    (9): Fire(\n",
       "      (squeeze): Conv2d(384, 48, kernel_size=(1, 1), stride=(1, 1))\n",
       "      (squeeze_activation): ReLU(inplace=True)\n",
       "      (expand1x1): Conv2d(48, 192, kernel_size=(1, 1), stride=(1, 1))\n",
       "      (expand1x1_activation): ReLU(inplace=True)\n",
       "      (expand3x3): Conv2d(48, 192, kernel_size=(3, 3), stride=(1, 1), padding=(1, 1))\n",
       "      (expand3x3_activation): ReLU(inplace=True)\n",
       "    )\n",
       "    (10): Fire(\n",
       "      (squeeze): Conv2d(384, 64, kernel_size=(1, 1), stride=(1, 1))\n",
       "      (squeeze_activation): ReLU(inplace=True)\n",
       "      (expand1x1): Conv2d(64, 256, kernel_size=(1, 1), stride=(1, 1))\n",
       "      (expand1x1_activation): ReLU(inplace=True)\n",
       "      (expand3x3): Conv2d(64, 256, kernel_size=(3, 3), stride=(1, 1), padding=(1, 1))\n",
       "      (expand3x3_activation): ReLU(inplace=True)\n",
       "    )\n",
       "    (11): MaxPool2d(kernel_size=3, stride=2, padding=0, dilation=1, ceil_mode=True)\n",
       "    (12): Fire(\n",
       "      (squeeze): Conv2d(512, 64, kernel_size=(1, 1), stride=(1, 1))\n",
       "      (squeeze_activation): ReLU(inplace=True)\n",
       "      (expand1x1): Conv2d(64, 256, kernel_size=(1, 1), stride=(1, 1))\n",
       "      (expand1x1_activation): ReLU(inplace=True)\n",
       "      (expand3x3): Conv2d(64, 256, kernel_size=(3, 3), stride=(1, 1), padding=(1, 1))\n",
       "      (expand3x3_activation): ReLU(inplace=True)\n",
       "    )\n",
       "  )\n",
       "  (classifier): Sequential(\n",
       "    (0): Dropout(p=0.5, inplace=False)\n",
       "    (1): Conv2d(512, 2, kernel_size=(1, 1), stride=(1, 1))\n",
       "    (2): ReLU(inplace=True)\n",
       "    (3): AdaptiveAvgPool2d(output_size=(1, 1))\n",
       "  )\n",
       ")"
      ]
     },
     "execution_count": 19,
     "metadata": {},
     "output_type": "execute_result"
    }
   ],
   "source": [
    "model.eval()"
   ]
  },
  {
   "cell_type": "code",
   "execution_count": 21,
   "metadata": {},
   "outputs": [
    {
     "name": "stdout",
     "output_type": "stream",
     "text": [
      "----------------------------------------------------------------\n",
      "        Layer (type)               Output Shape         Param #\n",
      "================================================================\n",
      "            Conv2d-1         [-1, 96, 109, 109]          14,208\n",
      "              ReLU-2         [-1, 96, 109, 109]               0\n",
      "         MaxPool2d-3           [-1, 96, 54, 54]               0\n",
      "            Conv2d-4           [-1, 16, 54, 54]           1,552\n",
      "              ReLU-5           [-1, 16, 54, 54]               0\n",
      "            Conv2d-6           [-1, 64, 54, 54]           1,088\n",
      "              ReLU-7           [-1, 64, 54, 54]               0\n",
      "            Conv2d-8           [-1, 64, 54, 54]           9,280\n",
      "              ReLU-9           [-1, 64, 54, 54]               0\n",
      "             Fire-10          [-1, 128, 54, 54]               0\n",
      "           Conv2d-11           [-1, 16, 54, 54]           2,064\n",
      "             ReLU-12           [-1, 16, 54, 54]               0\n",
      "           Conv2d-13           [-1, 64, 54, 54]           1,088\n",
      "             ReLU-14           [-1, 64, 54, 54]               0\n",
      "           Conv2d-15           [-1, 64, 54, 54]           9,280\n",
      "             ReLU-16           [-1, 64, 54, 54]               0\n",
      "             Fire-17          [-1, 128, 54, 54]               0\n",
      "           Conv2d-18           [-1, 32, 54, 54]           4,128\n",
      "             ReLU-19           [-1, 32, 54, 54]               0\n",
      "           Conv2d-20          [-1, 128, 54, 54]           4,224\n",
      "             ReLU-21          [-1, 128, 54, 54]               0\n",
      "           Conv2d-22          [-1, 128, 54, 54]          36,992\n",
      "             ReLU-23          [-1, 128, 54, 54]               0\n",
      "             Fire-24          [-1, 256, 54, 54]               0\n",
      "        MaxPool2d-25          [-1, 256, 27, 27]               0\n",
      "           Conv2d-26           [-1, 32, 27, 27]           8,224\n",
      "             ReLU-27           [-1, 32, 27, 27]               0\n",
      "           Conv2d-28          [-1, 128, 27, 27]           4,224\n",
      "             ReLU-29          [-1, 128, 27, 27]               0\n",
      "           Conv2d-30          [-1, 128, 27, 27]          36,992\n",
      "             ReLU-31          [-1, 128, 27, 27]               0\n",
      "             Fire-32          [-1, 256, 27, 27]               0\n",
      "           Conv2d-33           [-1, 48, 27, 27]          12,336\n",
      "             ReLU-34           [-1, 48, 27, 27]               0\n",
      "           Conv2d-35          [-1, 192, 27, 27]           9,408\n",
      "             ReLU-36          [-1, 192, 27, 27]               0\n",
      "           Conv2d-37          [-1, 192, 27, 27]          83,136\n",
      "             ReLU-38          [-1, 192, 27, 27]               0\n",
      "             Fire-39          [-1, 384, 27, 27]               0\n",
      "           Conv2d-40           [-1, 48, 27, 27]          18,480\n",
      "             ReLU-41           [-1, 48, 27, 27]               0\n",
      "           Conv2d-42          [-1, 192, 27, 27]           9,408\n",
      "             ReLU-43          [-1, 192, 27, 27]               0\n",
      "           Conv2d-44          [-1, 192, 27, 27]          83,136\n",
      "             ReLU-45          [-1, 192, 27, 27]               0\n",
      "             Fire-46          [-1, 384, 27, 27]               0\n",
      "           Conv2d-47           [-1, 64, 27, 27]          24,640\n",
      "             ReLU-48           [-1, 64, 27, 27]               0\n",
      "           Conv2d-49          [-1, 256, 27, 27]          16,640\n",
      "             ReLU-50          [-1, 256, 27, 27]               0\n",
      "           Conv2d-51          [-1, 256, 27, 27]         147,712\n",
      "             ReLU-52          [-1, 256, 27, 27]               0\n",
      "             Fire-53          [-1, 512, 27, 27]               0\n",
      "        MaxPool2d-54          [-1, 512, 13, 13]               0\n",
      "           Conv2d-55           [-1, 64, 13, 13]          32,832\n",
      "             ReLU-56           [-1, 64, 13, 13]               0\n",
      "           Conv2d-57          [-1, 256, 13, 13]          16,640\n",
      "             ReLU-58          [-1, 256, 13, 13]               0\n",
      "           Conv2d-59          [-1, 256, 13, 13]         147,712\n",
      "             ReLU-60          [-1, 256, 13, 13]               0\n",
      "             Fire-61          [-1, 512, 13, 13]               0\n",
      "          Dropout-62          [-1, 512, 13, 13]               0\n",
      "           Conv2d-63            [-1, 2, 13, 13]           1,026\n",
      "             ReLU-64            [-1, 2, 13, 13]               0\n",
      "AdaptiveAvgPool2d-65              [-1, 2, 1, 1]               0\n",
      "================================================================\n",
      "Total params: 736,450\n",
      "Trainable params: 1,026\n",
      "Non-trainable params: 735,424\n",
      "----------------------------------------------------------------\n",
      "Input size (MB): 0.57\n",
      "Forward/backward pass size (MB): 89.22\n",
      "Params size (MB): 2.81\n",
      "Estimated Total Size (MB): 92.60\n",
      "----------------------------------------------------------------\n"
     ]
    }
   ],
   "source": [
    "from torchsummary import  summary\n",
    "model.to(device)# move the model to CPU\n",
    "summary(model,input_size=(3,224,224))"
   ]
  },
  {
   "cell_type": "markdown",
   "metadata": {},
   "source": [
    "### Defining the method to train the model:"
   ]
  },
  {
   "cell_type": "code",
   "execution_count": 22,
   "metadata": {},
   "outputs": [],
   "source": [
    "class ModelTrainer():\n",
    "    \n",
    "    def __init__(self,criterion = None,optimizer = None,schedular = None):\n",
    "        \n",
    "        self.criterion = criterion\n",
    "        self.optimizer = optimizer\n",
    "        self.schedular = schedular \n",
    "\n",
    "    \n",
    "    \n",
    "    def train_batch_loop(self,model,trainloader):\n",
    "        \n",
    "        train_loss = 0.0\n",
    "        train_acc = 0.0\n",
    "        \n",
    "        for images,labels in tqdm(trainloader): \n",
    "            \n",
    "            # move the data to CPU\n",
    "            images = images.to(device)\n",
    "            labels = labels.to(device)\n",
    "            \n",
    "            outputs = model(images)\n",
    "            loss = self.criterion(outputs,labels)\n",
    "            \n",
    "            self.optimizer.zero_grad()\n",
    "            loss.backward()\n",
    "            self.optimizer.step()\n",
    "            \n",
    "            train_loss += loss.item()\n",
    "            train_acc += accuracy(outputs,labels)\n",
    "            \n",
    "        return train_loss / len(trainloader), train_acc / len(trainloader) \n",
    "\n",
    "    \n",
    "    def valid_batch_loop(self,model,validloader):\n",
    "        \n",
    "        valid_loss = 0.0\n",
    "        valid_acc = 0.0\n",
    "        \n",
    "        for images,labels in tqdm(validloader):\n",
    "            \n",
    "            # move the data to CPU\n",
    "            images = images.to(device) \n",
    "            labels = labels.to(device)\n",
    "            \n",
    "            outputs = model(images)\n",
    "            loss = self.criterion(outputs,labels)\n",
    "            \n",
    "            valid_loss += loss.item()\n",
    "            valid_acc += accuracy(outputs,labels)\n",
    "            \n",
    "        return valid_loss / len(validloader), valid_acc / len(validloader)\n",
    "            \n",
    "        \n",
    "    def fit(self,model,trainloader,validloader,epochs):\n",
    "        \n",
    "        valid_min_loss = np.Inf \n",
    "        \n",
    "        for i in range(epochs):\n",
    "            \n",
    "            model.train() \n",
    "            avg_train_loss, avg_train_acc = self.train_batch_loop(model,trainloader) \n",
    "            \n",
    "            model.eval()  \n",
    "            avg_valid_loss, avg_valid_acc = self.valid_batch_loop(model,validloader) \n",
    "            \n",
    "            if avg_valid_loss <= valid_min_loss :\n",
    "                print(\"Valid_loss decreased {} --> {}\".format(valid_min_loss,avg_valid_loss))\n",
    "                torch.save(model.state_dict(),'fire_squeeze_net.pt')\n",
    "                valid_min_loss = avg_valid_loss\n",
    "\n",
    "                \n",
    "            print(\"Epoch : {} Train Loss : {:.6f} Train Acc : {:.6f}\".format(i+1, avg_train_loss, avg_train_acc))\n",
    "            print(\"Epoch : {} Valid Loss : {:.6f} Valid Acc : {:.6f}\".format(i+1, avg_valid_loss, avg_valid_acc))\n"
   ]
  },
  {
   "cell_type": "code",
   "execution_count": 23,
   "metadata": {},
   "outputs": [],
   "source": [
    "criterion = nn.CrossEntropyLoss()"
   ]
  },
  {
   "cell_type": "markdown",
   "metadata": {},
   "source": [
    "### Training the model:"
   ]
  },
  {
   "cell_type": "code",
   "execution_count": 24,
   "metadata": {},
   "outputs": [
    {
     "data": {
      "application/vnd.jupyter.widget-view+json": {
       "model_id": "822f98e211c34bb884d9f93d7b295e66",
       "version_major": 2,
       "version_minor": 0
      },
      "text/plain": [
       "  0%|          | 0/5 [00:00<?, ?it/s]"
      ]
     },
     "metadata": {},
     "output_type": "display_data"
    },
    {
     "data": {
      "application/vnd.jupyter.widget-view+json": {
       "model_id": "fcdcfb1cb1654818b48dfcdd756e7cad",
       "version_major": 2,
       "version_minor": 0
      },
      "text/plain": [
       "  0%|          | 0/3 [00:00<?, ?it/s]"
      ]
     },
     "metadata": {},
     "output_type": "display_data"
    },
    {
     "name": "stdout",
     "output_type": "stream",
     "text": [
      "Valid_loss decreased inf --> 0.7411694327990214\n",
      "Epoch : 1 Train Loss : 0.938303 Train Acc : 0.402206\n",
      "Epoch : 1 Valid Loss : 0.741169 Valid Acc : 0.514421\n"
     ]
    },
    {
     "data": {
      "application/vnd.jupyter.widget-view+json": {
       "model_id": "e8fbfc8b0a2349e6b32c41baef941097",
       "version_major": 2,
       "version_minor": 0
      },
      "text/plain": [
       "  0%|          | 0/5 [00:00<?, ?it/s]"
      ]
     },
     "metadata": {},
     "output_type": "display_data"
    },
    {
     "data": {
      "application/vnd.jupyter.widget-view+json": {
       "model_id": "c143940ec3bc437faa9a8cd641f8566f",
       "version_major": 2,
       "version_minor": 0
      },
      "text/plain": [
       "  0%|          | 0/3 [00:00<?, ?it/s]"
      ]
     },
     "metadata": {},
     "output_type": "display_data"
    },
    {
     "name": "stdout",
     "output_type": "stream",
     "text": [
      "Valid_loss decreased 0.7411694327990214 --> 0.5084401369094849\n",
      "Epoch : 2 Train Loss : 0.632897 Train Acc : 0.648898\n",
      "Epoch : 2 Valid Loss : 0.508440 Valid Acc : 0.837207\n"
     ]
    },
    {
     "data": {
      "application/vnd.jupyter.widget-view+json": {
       "model_id": "f6fe666d391346409681d4560897bc66",
       "version_major": 2,
       "version_minor": 0
      },
      "text/plain": [
       "  0%|          | 0/5 [00:00<?, ?it/s]"
      ]
     },
     "metadata": {},
     "output_type": "display_data"
    },
    {
     "data": {
      "application/vnd.jupyter.widget-view+json": {
       "model_id": "a35cc5aedbc547398146c9249fc85a08",
       "version_major": 2,
       "version_minor": 0
      },
      "text/plain": [
       "  0%|          | 0/3 [00:00<?, ?it/s]"
      ]
     },
     "metadata": {},
     "output_type": "display_data"
    },
    {
     "name": "stdout",
     "output_type": "stream",
     "text": [
      "Valid_loss decreased 0.5084401369094849 --> 0.36635152498881024\n",
      "Epoch : 3 Train Loss : 0.432009 Train Acc : 0.836222\n",
      "Epoch : 3 Valid Loss : 0.366352 Valid Acc : 0.892759\n"
     ]
    },
    {
     "data": {
      "application/vnd.jupyter.widget-view+json": {
       "model_id": "76e4054b50364242bcf61410fa5cc029",
       "version_major": 2,
       "version_minor": 0
      },
      "text/plain": [
       "  0%|          | 0/5 [00:00<?, ?it/s]"
      ]
     },
     "metadata": {},
     "output_type": "display_data"
    },
    {
     "data": {
      "application/vnd.jupyter.widget-view+json": {
       "model_id": "f4b5978f0f6143d79b43d8734f7c3a47",
       "version_major": 2,
       "version_minor": 0
      },
      "text/plain": [
       "  0%|          | 0/3 [00:00<?, ?it/s]"
      ]
     },
     "metadata": {},
     "output_type": "display_data"
    },
    {
     "name": "stdout",
     "output_type": "stream",
     "text": [
      "Valid_loss decreased 0.36635152498881024 --> 0.27371945977211\n",
      "Epoch : 4 Train Loss : 0.319575 Train Acc : 0.893309\n",
      "Epoch : 4 Valid Loss : 0.273719 Valid Acc : 0.914303\n"
     ]
    },
    {
     "data": {
      "application/vnd.jupyter.widget-view+json": {
       "model_id": "71fdf716baf34f4d8b99dfe3ea40e777",
       "version_major": 2,
       "version_minor": 0
      },
      "text/plain": [
       "  0%|          | 0/5 [00:00<?, ?it/s]"
      ]
     },
     "metadata": {},
     "output_type": "display_data"
    },
    {
     "data": {
      "application/vnd.jupyter.widget-view+json": {
       "model_id": "39bbd0c54c7e4ba7970e02e3db94ca71",
       "version_major": 2,
       "version_minor": 0
      },
      "text/plain": [
       "  0%|          | 0/3 [00:00<?, ?it/s]"
      ]
     },
     "metadata": {},
     "output_type": "display_data"
    },
    {
     "name": "stdout",
     "output_type": "stream",
     "text": [
      "Valid_loss decreased 0.27371945977211 --> 0.22164489328861237\n",
      "Epoch : 5 Train Loss : 0.237575 Train Acc : 0.912225\n",
      "Epoch : 5 Valid Loss : 0.221645 Valid Acc : 0.927521\n"
     ]
    },
    {
     "data": {
      "application/vnd.jupyter.widget-view+json": {
       "model_id": "315aece805ca42d9b2c122337f68e3df",
       "version_major": 2,
       "version_minor": 0
      },
      "text/plain": [
       "  0%|          | 0/5 [00:00<?, ?it/s]"
      ]
     },
     "metadata": {},
     "output_type": "display_data"
    },
    {
     "data": {
      "application/vnd.jupyter.widget-view+json": {
       "model_id": "6458baac209943dabd9daf00de64087c",
       "version_major": 2,
       "version_minor": 0
      },
      "text/plain": [
       "  0%|          | 0/3 [00:00<?, ?it/s]"
      ]
     },
     "metadata": {},
     "output_type": "display_data"
    },
    {
     "name": "stdout",
     "output_type": "stream",
     "text": [
      "Valid_loss decreased 0.22164489328861237 --> 0.16474256416161856\n",
      "Epoch : 6 Train Loss : 0.200492 Train Acc : 0.920205\n",
      "Epoch : 6 Valid Loss : 0.164743 Valid Acc : 0.952337\n"
     ]
    },
    {
     "data": {
      "application/vnd.jupyter.widget-view+json": {
       "model_id": "2e7e565c0fa44c05a4c2aaba87bba627",
       "version_major": 2,
       "version_minor": 0
      },
      "text/plain": [
       "  0%|          | 0/5 [00:00<?, ?it/s]"
      ]
     },
     "metadata": {},
     "output_type": "display_data"
    },
    {
     "data": {
      "application/vnd.jupyter.widget-view+json": {
       "model_id": "e7665439dfa0487a9fd3e42adc5d2caa",
       "version_major": 2,
       "version_minor": 0
      },
      "text/plain": [
       "  0%|          | 0/3 [00:00<?, ?it/s]"
      ]
     },
     "metadata": {},
     "output_type": "display_data"
    },
    {
     "name": "stdout",
     "output_type": "stream",
     "text": [
      "Valid_loss decreased 0.16474256416161856 --> 0.13788280387719473\n",
      "Epoch : 7 Train Loss : 0.158893 Train Acc : 0.939177\n",
      "Epoch : 7 Valid Loss : 0.137883 Valid Acc : 0.946932\n"
     ]
    },
    {
     "data": {
      "application/vnd.jupyter.widget-view+json": {
       "model_id": "76d091eb9a7d402a98bf386f5a8129a2",
       "version_major": 2,
       "version_minor": 0
      },
      "text/plain": [
       "  0%|          | 0/5 [00:00<?, ?it/s]"
      ]
     },
     "metadata": {},
     "output_type": "display_data"
    },
    {
     "data": {
      "application/vnd.jupyter.widget-view+json": {
       "model_id": "e877a63c36744978adf66e03c2a4283d",
       "version_major": 2,
       "version_minor": 0
      },
      "text/plain": [
       "  0%|          | 0/3 [00:00<?, ?it/s]"
      ]
     },
     "metadata": {},
     "output_type": "display_data"
    },
    {
     "name": "stdout",
     "output_type": "stream",
     "text": [
      "Epoch : 8 Train Loss : 0.140859 Train Acc : 0.944368\n",
      "Epoch : 8 Valid Loss : 0.146163 Valid Acc : 0.943934\n"
     ]
    },
    {
     "data": {
      "application/vnd.jupyter.widget-view+json": {
       "model_id": "9de9d149440c4e6ead774a669b19f311",
       "version_major": 2,
       "version_minor": 0
      },
      "text/plain": [
       "  0%|          | 0/5 [00:00<?, ?it/s]"
      ]
     },
     "metadata": {},
     "output_type": "display_data"
    },
    {
     "data": {
      "application/vnd.jupyter.widget-view+json": {
       "model_id": "8884b0bb3e924dfeac01be454aa9e2f4",
       "version_major": 2,
       "version_minor": 0
      },
      "text/plain": [
       "  0%|          | 0/3 [00:00<?, ?it/s]"
      ]
     },
     "metadata": {},
     "output_type": "display_data"
    },
    {
     "name": "stdout",
     "output_type": "stream",
     "text": [
      "Valid_loss decreased 0.13788280387719473 --> 0.13058924923340479\n",
      "Epoch : 9 Train Loss : 0.128264 Train Acc : 0.951732\n",
      "Epoch : 9 Valid Loss : 0.130589 Valid Acc : 0.947446\n"
     ]
    },
    {
     "data": {
      "application/vnd.jupyter.widget-view+json": {
       "model_id": "964af55efce243d5bc4865aed57659f5",
       "version_major": 2,
       "version_minor": 0
      },
      "text/plain": [
       "  0%|          | 0/5 [00:00<?, ?it/s]"
      ]
     },
     "metadata": {},
     "output_type": "display_data"
    },
    {
     "data": {
      "application/vnd.jupyter.widget-view+json": {
       "model_id": "c6268c43f9e44b3a8293aa3cfe408852",
       "version_major": 2,
       "version_minor": 0
      },
      "text/plain": [
       "  0%|          | 0/3 [00:00<?, ?it/s]"
      ]
     },
     "metadata": {},
     "output_type": "display_data"
    },
    {
     "name": "stdout",
     "output_type": "stream",
     "text": [
      "Valid_loss decreased 0.13058924923340479 --> 0.12173951665560405\n",
      "Epoch : 10 Train Loss : 0.119317 Train Acc : 0.957146\n",
      "Epoch : 10 Valid Loss : 0.121740 Valid Acc : 0.948037\n"
     ]
    },
    {
     "data": {
      "application/vnd.jupyter.widget-view+json": {
       "model_id": "6feb1dff6d4644d0af9426762310001f",
       "version_major": 2,
       "version_minor": 0
      },
      "text/plain": [
       "  0%|          | 0/5 [00:00<?, ?it/s]"
      ]
     },
     "metadata": {},
     "output_type": "display_data"
    },
    {
     "data": {
      "application/vnd.jupyter.widget-view+json": {
       "model_id": "eeb031aa45b7478e9a3c314031ab82b5",
       "version_major": 2,
       "version_minor": 0
      },
      "text/plain": [
       "  0%|          | 0/3 [00:00<?, ?it/s]"
      ]
     },
     "metadata": {},
     "output_type": "display_data"
    },
    {
     "name": "stdout",
     "output_type": "stream",
     "text": [
      "Valid_loss decreased 0.12173951665560405 --> 0.11678288877010345\n",
      "Epoch : 11 Train Loss : 0.099428 Train Acc : 0.962781\n",
      "Epoch : 11 Valid Loss : 0.116783 Valid Acc : 0.951943\n"
     ]
    },
    {
     "data": {
      "application/vnd.jupyter.widget-view+json": {
       "model_id": "5ea1865c8f4b4431942098ef4277bb1d",
       "version_major": 2,
       "version_minor": 0
      },
      "text/plain": [
       "  0%|          | 0/5 [00:00<?, ?it/s]"
      ]
     },
     "metadata": {},
     "output_type": "display_data"
    },
    {
     "data": {
      "application/vnd.jupyter.widget-view+json": {
       "model_id": "aa3326d121b9415883d596be199c665e",
       "version_major": 2,
       "version_minor": 0
      },
      "text/plain": [
       "  0%|          | 0/3 [00:00<?, ?it/s]"
      ]
     },
     "metadata": {},
     "output_type": "display_data"
    },
    {
     "name": "stdout",
     "output_type": "stream",
     "text": [
      "Valid_loss decreased 0.11678288877010345 --> 0.1052360658844312\n",
      "Epoch : 12 Train Loss : 0.098954 Train Acc : 0.964455\n",
      "Epoch : 12 Valid Loss : 0.105236 Valid Acc : 0.956047\n"
     ]
    },
    {
     "data": {
      "application/vnd.jupyter.widget-view+json": {
       "model_id": "982729358d054cbabd95c131d998c564",
       "version_major": 2,
       "version_minor": 0
      },
      "text/plain": [
       "  0%|          | 0/5 [00:00<?, ?it/s]"
      ]
     },
     "metadata": {},
     "output_type": "display_data"
    },
    {
     "data": {
      "application/vnd.jupyter.widget-view+json": {
       "model_id": "78c7da36a2e74373a07d16a8ec0f1f3c",
       "version_major": 2,
       "version_minor": 0
      },
      "text/plain": [
       "  0%|          | 0/3 [00:00<?, ?it/s]"
      ]
     },
     "metadata": {},
     "output_type": "display_data"
    },
    {
     "name": "stdout",
     "output_type": "stream",
     "text": [
      "Epoch : 13 Train Loss : 0.088382 Train Acc : 0.969812\n",
      "Epoch : 13 Valid Loss : 0.107675 Valid Acc : 0.954350\n"
     ]
    },
    {
     "data": {
      "application/vnd.jupyter.widget-view+json": {
       "model_id": "5b2a2abd4bbb4b97ad5cfa79b0c8c6db",
       "version_major": 2,
       "version_minor": 0
      },
      "text/plain": [
       "  0%|          | 0/5 [00:00<?, ?it/s]"
      ]
     },
     "metadata": {},
     "output_type": "display_data"
    },
    {
     "data": {
      "application/vnd.jupyter.widget-view+json": {
       "model_id": "5745aa6f494442e0ad1c1ab8b205b811",
       "version_major": 2,
       "version_minor": 0
      },
      "text/plain": [
       "  0%|          | 0/3 [00:00<?, ?it/s]"
      ]
     },
     "metadata": {},
     "output_type": "display_data"
    },
    {
     "name": "stdout",
     "output_type": "stream",
     "text": [
      "Valid_loss decreased 0.1052360658844312 --> 0.10378319770097733\n",
      "Epoch : 14 Train Loss : 0.085495 Train Acc : 0.969923\n",
      "Epoch : 14 Valid Loss : 0.103783 Valid Acc : 0.964450\n"
     ]
    },
    {
     "data": {
      "application/vnd.jupyter.widget-view+json": {
       "model_id": "f38772ab6daa4686807e3421860b4e76",
       "version_major": 2,
       "version_minor": 0
      },
      "text/plain": [
       "  0%|          | 0/5 [00:00<?, ?it/s]"
      ]
     },
     "metadata": {},
     "output_type": "display_data"
    },
    {
     "data": {
      "application/vnd.jupyter.widget-view+json": {
       "model_id": "3e745364bf174024b9496cb3dc22b6a7",
       "version_major": 2,
       "version_minor": 0
      },
      "text/plain": [
       "  0%|          | 0/3 [00:00<?, ?it/s]"
      ]
     },
     "metadata": {},
     "output_type": "display_data"
    },
    {
     "name": "stdout",
     "output_type": "stream",
     "text": [
      "Valid_loss decreased 0.10378319770097733 --> 0.09091239174207051\n",
      "Epoch : 15 Train Loss : 0.077614 Train Acc : 0.976174\n",
      "Epoch : 15 Valid Loss : 0.090912 Valid Acc : 0.962557\n"
     ]
    },
    {
     "data": {
      "application/vnd.jupyter.widget-view+json": {
       "model_id": "0db25f68c15242cd91e3ebc471aac89e",
       "version_major": 2,
       "version_minor": 0
      },
      "text/plain": [
       "  0%|          | 0/5 [00:00<?, ?it/s]"
      ]
     },
     "metadata": {},
     "output_type": "display_data"
    },
    {
     "data": {
      "application/vnd.jupyter.widget-view+json": {
       "model_id": "9e89c9d3c6544f96a3bf4f846e7b8c57",
       "version_major": 2,
       "version_minor": 0
      },
      "text/plain": [
       "  0%|          | 0/3 [00:00<?, ?it/s]"
      ]
     },
     "metadata": {},
     "output_type": "display_data"
    },
    {
     "name": "stdout",
     "output_type": "stream",
     "text": [
      "Epoch : 16 Train Loss : 0.074327 Train Acc : 0.973941\n",
      "Epoch : 16 Valid Loss : 0.091372 Valid Acc : 0.968159\n"
     ]
    },
    {
     "data": {
      "application/vnd.jupyter.widget-view+json": {
       "model_id": "b250759d503d4247badbfa43a6789a1e",
       "version_major": 2,
       "version_minor": 0
      },
      "text/plain": [
       "  0%|          | 0/5 [00:00<?, ?it/s]"
      ]
     },
     "metadata": {},
     "output_type": "display_data"
    },
    {
     "data": {
      "application/vnd.jupyter.widget-view+json": {
       "model_id": "a5e5785dd5774e798886210be81da2fe",
       "version_major": 2,
       "version_minor": 0
      },
      "text/plain": [
       "  0%|          | 0/3 [00:00<?, ?it/s]"
      ]
     },
     "metadata": {},
     "output_type": "display_data"
    },
    {
     "name": "stdout",
     "output_type": "stream",
     "text": [
      "Epoch : 17 Train Loss : 0.080254 Train Acc : 0.970760\n",
      "Epoch : 17 Valid Loss : 0.104083 Valid Acc : 0.962557\n"
     ]
    },
    {
     "data": {
      "application/vnd.jupyter.widget-view+json": {
       "model_id": "e8a423fdcf8e4d37a78a319263692483",
       "version_major": 2,
       "version_minor": 0
      },
      "text/plain": [
       "  0%|          | 0/5 [00:00<?, ?it/s]"
      ]
     },
     "metadata": {},
     "output_type": "display_data"
    },
    {
     "data": {
      "application/vnd.jupyter.widget-view+json": {
       "model_id": "4616f3e5a0b24124bb83eccb3c408d82",
       "version_major": 2,
       "version_minor": 0
      },
      "text/plain": [
       "  0%|          | 0/3 [00:00<?, ?it/s]"
      ]
     },
     "metadata": {},
     "output_type": "display_data"
    },
    {
     "name": "stdout",
     "output_type": "stream",
     "text": [
      "Epoch : 18 Train Loss : 0.065434 Train Acc : 0.978351\n",
      "Epoch : 18 Valid Loss : 0.091405 Valid Acc : 0.970763\n"
     ]
    },
    {
     "data": {
      "application/vnd.jupyter.widget-view+json": {
       "model_id": "2e670e5bdfe04aa5a28c8b7d7cf27b80",
       "version_major": 2,
       "version_minor": 0
      },
      "text/plain": [
       "  0%|          | 0/5 [00:00<?, ?it/s]"
      ]
     },
     "metadata": {},
     "output_type": "display_data"
    },
    {
     "data": {
      "application/vnd.jupyter.widget-view+json": {
       "model_id": "578e2bd04610413f955286d0478148a2",
       "version_major": 2,
       "version_minor": 0
      },
      "text/plain": [
       "  0%|          | 0/3 [00:00<?, ?it/s]"
      ]
     },
     "metadata": {},
     "output_type": "display_data"
    },
    {
     "name": "stdout",
     "output_type": "stream",
     "text": [
      "Epoch : 19 Train Loss : 0.070137 Train Acc : 0.974611\n",
      "Epoch : 19 Valid Loss : 0.096682 Valid Acc : 0.967568\n"
     ]
    },
    {
     "data": {
      "application/vnd.jupyter.widget-view+json": {
       "model_id": "8bd308abe22440ffb5a4c7d20bac2f55",
       "version_major": 2,
       "version_minor": 0
      },
      "text/plain": [
       "  0%|          | 0/5 [00:00<?, ?it/s]"
      ]
     },
     "metadata": {},
     "output_type": "display_data"
    },
    {
     "data": {
      "application/vnd.jupyter.widget-view+json": {
       "model_id": "fe175bc31cd942debaa4cdbc70c5493d",
       "version_major": 2,
       "version_minor": 0
      },
      "text/plain": [
       "  0%|          | 0/3 [00:00<?, ?it/s]"
      ]
     },
     "metadata": {},
     "output_type": "display_data"
    },
    {
     "name": "stdout",
     "output_type": "stream",
     "text": [
      "Epoch : 20 Train Loss : 0.066160 Train Acc : 0.976007\n",
      "Epoch : 20 Valid Loss : 0.102252 Valid Acc : 0.965358\n"
     ]
    },
    {
     "data": {
      "application/vnd.jupyter.widget-view+json": {
       "model_id": "f56f9be607a541f3ba14fef130a6d71b",
       "version_major": 2,
       "version_minor": 0
      },
      "text/plain": [
       "  0%|          | 0/5 [00:00<?, ?it/s]"
      ]
     },
     "metadata": {},
     "output_type": "display_data"
    },
    {
     "data": {
      "application/vnd.jupyter.widget-view+json": {
       "model_id": "045d107821fe4d36bd31f573cd88de8e",
       "version_major": 2,
       "version_minor": 0
      },
      "text/plain": [
       "  0%|          | 0/3 [00:00<?, ?it/s]"
      ]
     },
     "metadata": {},
     "output_type": "display_data"
    },
    {
     "name": "stdout",
     "output_type": "stream",
     "text": [
      "Valid_loss decreased 0.09091239174207051 --> 0.08143803973992665\n",
      "Epoch : 21 Train Loss : 0.061455 Train Acc : 0.981809\n",
      "Epoch : 21 Valid Loss : 0.081438 Valid Acc : 0.969658\n"
     ]
    },
    {
     "data": {
      "application/vnd.jupyter.widget-view+json": {
       "model_id": "5c351a30bf88491c914e81f63eacc240",
       "version_major": 2,
       "version_minor": 0
      },
      "text/plain": [
       "  0%|          | 0/5 [00:00<?, ?it/s]"
      ]
     },
     "metadata": {},
     "output_type": "display_data"
    },
    {
     "data": {
      "application/vnd.jupyter.widget-view+json": {
       "model_id": "cf2e0b37999d4140ad33a465d0db0ff0",
       "version_major": 2,
       "version_minor": 0
      },
      "text/plain": [
       "  0%|          | 0/3 [00:00<?, ?it/s]"
      ]
     },
     "metadata": {},
     "output_type": "display_data"
    },
    {
     "name": "stdout",
     "output_type": "stream",
     "text": [
      "Valid_loss decreased 0.08143803973992665 --> 0.07805020486315091\n",
      "Epoch : 22 Train Loss : 0.067832 Train Acc : 0.975392\n",
      "Epoch : 22 Valid Loss : 0.078050 Valid Acc : 0.978970\n"
     ]
    },
    {
     "data": {
      "application/vnd.jupyter.widget-view+json": {
       "model_id": "b941acbc48eb4f469eee7f9e8e2f4039",
       "version_major": 2,
       "version_minor": 0
      },
      "text/plain": [
       "  0%|          | 0/5 [00:00<?, ?it/s]"
      ]
     },
     "metadata": {},
     "output_type": "display_data"
    },
    {
     "data": {
      "application/vnd.jupyter.widget-view+json": {
       "model_id": "9f3ea0f81df846e086af0461164e9c27",
       "version_major": 2,
       "version_minor": 0
      },
      "text/plain": [
       "  0%|          | 0/3 [00:00<?, ?it/s]"
      ]
     },
     "metadata": {},
     "output_type": "display_data"
    },
    {
     "name": "stdout",
     "output_type": "stream",
     "text": [
      "Valid_loss decreased 0.07805020486315091 --> 0.07622074087460835\n",
      "Epoch : 23 Train Loss : 0.064085 Train Acc : 0.978740\n",
      "Epoch : 23 Valid Loss : 0.076221 Valid Acc : 0.973367\n"
     ]
    },
    {
     "data": {
      "application/vnd.jupyter.widget-view+json": {
       "model_id": "43c15ecaf4bb46f9becb59a7266ce2c9",
       "version_major": 2,
       "version_minor": 0
      },
      "text/plain": [
       "  0%|          | 0/5 [00:00<?, ?it/s]"
      ]
     },
     "metadata": {},
     "output_type": "display_data"
    },
    {
     "data": {
      "application/vnd.jupyter.widget-view+json": {
       "model_id": "caea195ad1e3431a8efd5fdec499316a",
       "version_major": 2,
       "version_minor": 0
      },
      "text/plain": [
       "  0%|          | 0/3 [00:00<?, ?it/s]"
      ]
     },
     "metadata": {},
     "output_type": "display_data"
    },
    {
     "name": "stdout",
     "output_type": "stream",
     "text": [
      "Valid_loss decreased 0.07622074087460835 --> 0.07216840858260791\n",
      "Epoch : 24 Train Loss : 0.057729 Train Acc : 0.980358\n",
      "Epoch : 24 Valid Loss : 0.072168 Valid Acc : 0.978970\n"
     ]
    },
    {
     "data": {
      "application/vnd.jupyter.widget-view+json": {
       "model_id": "4f81fdcd6e3e4833a4733a88e50e1c16",
       "version_major": 2,
       "version_minor": 0
      },
      "text/plain": [
       "  0%|          | 0/5 [00:00<?, ?it/s]"
      ]
     },
     "metadata": {},
     "output_type": "display_data"
    },
    {
     "data": {
      "application/vnd.jupyter.widget-view+json": {
       "model_id": "a87e870ffbd64a849b7ffc8eb98ebadd",
       "version_major": 2,
       "version_minor": 0
      },
      "text/plain": [
       "  0%|          | 0/3 [00:00<?, ?it/s]"
      ]
     },
     "metadata": {},
     "output_type": "display_data"
    },
    {
     "name": "stdout",
     "output_type": "stream",
     "text": [
      "Epoch : 25 Train Loss : 0.054153 Train Acc : 0.981753\n",
      "Epoch : 25 Valid Loss : 0.076982 Valid Acc : 0.977274\n"
     ]
    }
   ],
   "source": [
    "criterion = nn.CrossEntropyLoss()\n",
    "optimizer = torch.optim.Adam(model.parameters(),lr = CNFG.lr)\n",
    "\n",
    "trainer = ModelTrainer(criterion,optimizer)\n",
    "trainer.fit(model,trainloader,validationloader,epochs = 25)"
   ]
  },
  {
   "cell_type": "markdown",
   "metadata": {},
   "source": [
    "## Loading the trained model and testing"
   ]
  },
  {
   "cell_type": "code",
   "execution_count": 25,
   "metadata": {},
   "outputs": [
    {
     "data": {
      "application/vnd.jupyter.widget-view+json": {
       "model_id": "bc40c07ab967495cb5565756b7e477be",
       "version_major": 2,
       "version_minor": 0
      },
      "text/plain": [
       "  0%|          | 0/1 [00:00<?, ?it/s]"
      ]
     },
     "metadata": {},
     "output_type": "display_data"
    },
    {
     "name": "stdout",
     "output_type": "stream",
     "text": [
      "Test Loss : 0.079958 Test Acc : 0.957346\n"
     ]
    }
   ],
   "source": [
    "model.load_state_dict(torch.load('fire_squeeze_net.pt'))\n",
    "model.eval()\n",
    "test_loss = 0.0\n",
    "test_acc = 0.0\n",
    "for images,labels in tqdm(testloader):\n",
    "        \n",
    "        # move the data to CPU\n",
    "        images = images.to(device) \n",
    "        labels = labels.to(device)\n",
    "        \n",
    "        outputs = model(images)\n",
    "        loss = criterion(outputs,labels)\n",
    "        \n",
    "        test_loss += loss.item()\n",
    "        test_acc += accuracy(outputs,labels)\n",
    "\n",
    "print(\"Test Loss : {:.6f} Test Acc : {:.6f}\".format(test_loss / len(testloader), test_acc / len(testloader)))"
   ]
  },
  {
   "cell_type": "markdown",
   "metadata": {},
   "source": [
    "## Make predictions"
   ]
  },
  {
   "cell_type": "code",
   "execution_count": 28,
   "metadata": {},
   "outputs": [],
   "source": [
    "from PIL import Image \n",
    "import matplotlib.pyplot as plt\n",
    "import numpy as np\n",
    "import cv2\n",
    "import torch.nn.functional as F \n",
    "import torch\n",
    "from torchvision.datasets import ImageFolder\n",
    "from torch.utils.data import DataLoader \n",
    "from torchvision import transforms as T,datasets  \n",
    "from torchvision.models import squeezenet1_0\n",
    "from torch import nn\n",
    "\n",
    "\n",
    "data_transform = T.Compose([\n",
    "                             T.Resize(size=(224,224)), # Resizing the image to be 224 by 224\n",
    "                            #  T.RandomRotation(degrees=(-20,+20)), #Randomly Rotate Images by +/- 20 degrees, Image argumentation for each epoch\n",
    "                             T.ToTensor(), #converting the dimension from (height,weight,channel) to (channel,height,weight) convention of PyTorch\n",
    "                             T.Normalize([0.485,0.456,0.406],[0.229,0.224,0.225]) # Normalize by 3 means 3 StD's of the image net, 3 channels\n",
    "\n",
    "]) \n",
    "\n",
    "class_map = [ \n",
    "    'fire',\n",
    "    'no_fire'\n",
    "]\n",
    "\n",
    "def imshow(img):\n",
    "    npimg = img.numpy()\n",
    "    plt.imshow(np.transpose(npimg, (1, 2, 0)))\n",
    "    plt.show()\n",
    "\n",
    "\n",
    "def predict_image_class_name(image_path,model): \n",
    "    \n",
    "    # show image \n",
    "    imshow(data_transform(Image.open(image_path)))\n",
    "\n",
    "    image = Image.open(image_path)\n",
    "    image = data_transform(image)\n",
    "    image = image.unsqueeze(0)\n",
    "    image = image.to(device) \n",
    "    output = model(image)\n",
    "    output = F.softmax(output,dim = 1)\n",
    "    print(\"soft\" , output)\n",
    "    top_p,top_class = output.topk(1,dim = 1) \n",
    "    print( top_p , top_class)\n",
    "    # return \"Predicted :\", train_data.dataset.classes[top_class.item()]\n",
    "    return \"Predicted :\", class_map[top_class.item()]\n",
    "\n",
    "# device \n",
    "device = torch.device(\"cpu\" if torch.cuda.is_available() else \"cpu\") \n",
    "\n",
    "# make realtime predictions \n",
    "model = squeezenet1_0(pretrained=True) #load pretrained model \n",
    "model.classifier[1] = nn.Conv2d(512, 2, kernel_size=(1, 1), stride=(1, 1))\n",
    "model.load_state_dict(torch.load('fire_squeeze_net.pt')) # load the model\n",
    "model.to(device) \n",
    "\n",
    "def predict_img(image): \n",
    "\n",
    "    INPUT_DIM = 224 \n",
    "    preprocess = T.Compose([\n",
    "            T.Resize(INPUT_DIM ),\n",
    "            # T.CenterCrop(224),\n",
    "            T.ToTensor(),\n",
    "            T.Normalize(\n",
    "            mean=[0.485, 0.456, 0.406],\n",
    "            std=[0.229, 0.224, 0.225]\n",
    "        )])\n",
    "\n",
    "#     imshow(preprocess(Image.open(image)))\n",
    "\n",
    "    im = Image.open(image)\n",
    "    im_preprocessed = preprocess(im) \n",
    "    batch_img_tensor = torch.unsqueeze(im_preprocessed, 0)\n",
    "    output = model(batch_img_tensor) \n",
    "    confidence = F.softmax(output, dim=1)[0] * 100 \n",
    "    _, indices = torch.sort(output, descending=True) \n",
    "    return [(class_map[idx], confidence[idx].item()) for idx in indices[0][:1]]\n"
   ]
  },
  {
   "cell_type": "code",
   "execution_count": 30,
   "metadata": {},
   "outputs": [
    {
     "name": "stdout",
     "output_type": "stream",
     "text": [
      "fire\n",
      "CPU times: total: 281 ms\n",
      "Wall time: 99.8 ms\n"
     ]
    }
   ],
   "source": [
    "%%time\n",
    "tello = predict_img(\"./TestingImages/34.jpg\")\n",
    "print((tello[0])[0])"
   ]
  },
  {
   "cell_type": "code",
   "execution_count": 31,
   "metadata": {},
   "outputs": [
    {
     "name": "stdout",
     "output_type": "stream",
     "text": [
      "('no_fire', 96.63951873779297)\n",
      "CPU times: total: 312 ms\n",
      "Wall time: 74 ms\n"
     ]
    }
   ],
   "source": [
    "%%time\n",
    "tello = predict_img(\"./TestingImages/37.jpg\")\n",
    "print((tello[0]))"
   ]
  },
  {
   "cell_type": "code",
   "execution_count": 32,
   "metadata": {},
   "outputs": [
    {
     "name": "stderr",
     "output_type": "stream",
     "text": [
      "Clipping input data to the valid range for imshow with RGB data ([0..1] for floats or [0..255] for integers).\n"
     ]
    },
    {
     "data": {
      "image/png": "[encoded data removed]",
      "text/plain": [
       "<Figure size 640x480 with 1 Axes>"
      ]
     },
     "metadata": {},
     "output_type": "display_data"
    },
    {
     "name": "stdout",
     "output_type": "stream",
     "text": [
      "soft tensor([[9.9989e-01, 1.0864e-04]], grad_fn=<SoftmaxBackward0>)\n",
      "tensor([[0.9999]], grad_fn=<TopkBackward0>) tensor([[0]])\n",
      "CPU times: total: 1.02 s\n",
      "Wall time: 404 ms\n"
     ]
    },
    {
     "data": {
      "text/plain": [
       "('Predicted :', 'fire')"
      ]
     },
     "execution_count": 32,
     "metadata": {},
     "output_type": "execute_result"
    }
   ],
   "source": [
    "%%time\n",
    "predict_image_class_name('./TestingImages/34.jpg',model) "
   ]
  },
  {
   "cell_type": "code",
   "execution_count": 33,
   "metadata": {},
   "outputs": [
    {
     "data": {
      "text/plain": [
       "[('fire', 99.60023498535156)]"
      ]
     },
     "execution_count": 33,
     "metadata": {},
     "output_type": "execute_result"
    }
   ],
   "source": [
    "predict_img('./TestingImages/35.jpg') "
   ]
  },
  {
   "cell_type": "markdown",
   "metadata": {},
   "source": [
    "## Deploying the model with OpenCV"
   ]
  },
  {
   "cell_type": "markdown",
   "metadata": {},
   "source": [
    "### Importing the libraries"
   ]
  },
  {
   "cell_type": "code",
   "execution_count": 36,
   "metadata": {},
   "outputs": [],
   "source": [
    "import numpy as np\n",
    "import cv2\n",
    "import torch\n",
    "from time import time"
   ]
  },
  {
   "cell_type": "markdown",
   "metadata": {},
   "source": [
    "### Testing the model with video"
   ]
  },
  {
   "cell_type": "code",
   "execution_count": 38,
   "metadata": {},
   "outputs": [],
   "source": [
    "# importing libraries\n",
    "import cv2\n",
    "import numpy as np\n",
    "\n",
    "font = cv2.FONT_HERSHEY_SIMPLEX\n",
    " \n",
    "# Create a VideoCapture object and read from input file\n",
    "cap = cv2.VideoCapture('testing_vid.mp4')\n",
    " \n",
    "# Check if camera opened successfully\n",
    "if (cap.isOpened()== False):\n",
    "    print(\"Error opening video file\")\n",
    "\n",
    "currentframe = 0\n",
    "# Read until video is completed\n",
    "while(cap.isOpened()):\n",
    "     \n",
    "# Capture frame-by-frame\n",
    "    ret, frame = cap.read()\n",
    "\n",
    "    if ret == True:\n",
    "    # Display the resulting frame\n",
    "        name = 'TestingFrame\\Frame(' + str(currentframe) + ').jpg'\n",
    "        \n",
    "        cv2.imwrite(name, frame)\n",
    "        \n",
    "        tello = predict_img(name)\n",
    "        \n",
    "        cv2.putText(frame, str((tello[0])[0]), (7, 70), font, 3, (100, 255, 0), 3, cv2.LINE_AA)\n",
    "        cv2.imshow('Frame', frame)\n",
    "        \n",
    "         \n",
    "    # Press Q on keyboard to exit\n",
    "        if cv2.waitKey(25) & 0xFF == ord('q'):\n",
    "            break\n",
    " \n",
    "# Break the loop\n",
    "    else:\n",
    "        break\n",
    " \n",
    "# When everything done, release\n",
    "# the video capture object\n",
    "cap.release()\n",
    " \n",
    "# Closes all the frames\n",
    "cv2.destroyAllWindows()"
   ]
  },
  {
   "cell_type": "code",
   "execution_count": null,
   "metadata": {},
   "outputs": [],
   "source": []
  }
 ],
 "metadata": {
  "kernelspec": {
   "display_name": "Python 3 (ipykernel)",
   "language": "python",
   "name": "python3"
  },
  "language_info": {
   "codemirror_mode": {
    "name": "ipython",
    "version": 3
   },
   "file_extension": ".py",
   "mimetype": "text/x-python",
   "name": "python",
   "nbconvert_exporter": "python",
   "pygments_lexer": "ipython3",
   "version": "3.10.9"
  },
  "vscode": {
   "interpreter": {
    "hash": "916dbcbb3f70747c44a77c7bcd40155683ae19c65e1c03b4aa3499c5328201f1"
   }
  }
 },
 "nbformat": 4,
 "nbformat_minor": 2
}
